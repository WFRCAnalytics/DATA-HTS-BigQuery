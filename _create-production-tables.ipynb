{
 "cells": [
  {
   "cell_type": "code",
   "execution_count": 3,
   "id": "5bf2ae44",
   "metadata": {},
   "outputs": [],
   "source": [
    "# --- SETUP ---\n",
    "from google.cloud import bigquery\n",
    "from google.oauth2 import service_account\n",
    "import os"
   ]
  },
  {
   "cell_type": "code",
   "execution_count": 1,
   "id": "52de05bb",
   "metadata": {},
   "outputs": [
    {
     "name": "stdout",
     "output_type": "stream",
     "text": [
      "bhereth\n",
      "C:\\Users\\bhereth\\confidential-2023-utah-hts-db5335615978.json\n"
     ]
    }
   ],
   "source": [
    "# import global TDM functions\n",
    "import sys\n",
    "sys.path.insert(0, '../Resources/2-Python/global-functions')\n",
    "import BigQuery\n",
    "\n",
    "client = BigQuery.getBigQueryClient_Confidential2023UtahHTS()"
   ]
  },
  {
   "cell_type": "code",
   "execution_count": 7,
   "id": "645ff9fd",
   "metadata": {},
   "outputs": [
    {
     "name": "stdout",
     "output_type": "stream",
     "text": [
      "✅ Connected to BigQuery project: confidential-2023-utah-hts\n",
      "Target dataset: hts_2023_tdm_proc\n",
      "SQL directory: \n",
      "\n",
      "▶ Running: day.sql  →  confidential-2023-utah-hts.hts_2023_tdm_proc.day\n",
      "✔ Done: confidential-2023-utah-hts.hts_2023_tdm_proc.day\n",
      "\n",
      "▶ Running: hh.sql  →  confidential-2023-utah-hts.hts_2023_tdm_proc.hh\n",
      "✔ Done: confidential-2023-utah-hts.hts_2023_tdm_proc.hh\n",
      "\n",
      "▶ Running: person.sql  →  confidential-2023-utah-hts.hts_2023_tdm_proc.person\n",
      "✔ Done: confidential-2023-utah-hts.hts_2023_tdm_proc.person\n",
      "\n",
      "▶ Running: trip_unlinked.sql  →  confidential-2023-utah-hts.hts_2023_tdm_proc.trip_unlinked\n",
      "✔ Done: confidential-2023-utah-hts.hts_2023_tdm_proc.trip_unlinked\n",
      "\n",
      "▶ Running: trip_linked.sql  →  confidential-2023-utah-hts.hts_2023_tdm_proc.trip_linked\n",
      "✔ Done: confidential-2023-utah-hts.hts_2023_tdm_proc.trip_linked\n",
      "\n",
      "▶ Running: vehicle.sql  →  confidential-2023-utah-hts.hts_2023_tdm_proc.vehicle\n",
      "✔ Done: confidential-2023-utah-hts.hts_2023_tdm_proc.vehicle\n",
      "\n",
      "✅ All SQL scripts completed successfully.\n"
     ]
    }
   ],
   "source": [
    "# --- CONFIG ---\n",
    "PROJECT_ID = os.getenv(\"PROJECT_ID\", \"confidential-2023-utah-hts\")\n",
    "BQ_LOCATION = os.getenv(\"BQ_LOCATION\", \"US\")\n",
    "TARGET_DATASET = os.getenv(\"TARGET_DATASET\", \"hts_2023_tdm_proc\")\n",
    "\n",
    "# Optional prefix/suffix for table names\n",
    "TABLE_PREFIX = os.getenv(\"TABLE_PREFIX\", \"\")   # e.g., \"build_20251007_\"\n",
    "TABLE_SUFFIX = os.getenv(\"TABLE_SUFFIX\", \"\")   # e.g., \"_v2\"\n",
    "\n",
    "# Ordered list of SQL files to execute\n",
    "ORDERED_SQL_FILES = [\n",
    "    \"day.sql\",\n",
    "    \"hh.sql\",\n",
    "    \"person.sql\",\n",
    "    \"trip_unlinked.sql\",\n",
    "    \"trip_linked.sql\",\n",
    "    \"vehicle.sql\",\n",
    "]\n",
    "\n",
    "# Path to your SQL directory\n",
    "SQL_DIR = \"\"  # adjust this path if needed\n",
    "\n",
    "print(f\"✅ Connected to BigQuery project: {PROJECT_ID}\")\n",
    "print(f\"Target dataset: {TARGET_DATASET}\")\n",
    "print(f\"SQL directory: {SQL_DIR}\")\n",
    "\n",
    "# --- RUNNER FUNCTION ---\n",
    "def run_sql_file(sql_file: str):\n",
    "    \"\"\"Run a SQL file and write results to BigQuery table.\"\"\"\n",
    "    base_name = os.path.splitext(sql_file)[0]\n",
    "    table_name = f\"{TABLE_PREFIX}{base_name}{TABLE_SUFFIX}\"\n",
    "    table_id = f\"{PROJECT_ID}.{TARGET_DATASET}.{table_name}\"\n",
    "\n",
    "    print(f\"\\n▶ Running: {sql_file}  →  {table_id}\")\n",
    "\n",
    "    # Load SQL from file\n",
    "    with open(os.path.join(SQL_DIR, sql_file), \"r\", encoding=\"utf-8\") as f:\n",
    "        sql = f.read()\n",
    "\n",
    "    # Define job config\n",
    "    job_config = bigquery.QueryJobConfig(\n",
    "        destination=table_id,\n",
    "        write_disposition=\"WRITE_TRUNCATE\",  # replace if exists\n",
    "    )\n",
    "\n",
    "    # Execute query\n",
    "    query_job = client.query(sql, job_config=job_config)\n",
    "    query_job.result()  # Wait for job to complete\n",
    "\n",
    "    print(f\"✔ Done: {table_id}\")\n",
    "\n",
    "# --- MAIN LOOP ---\n",
    "for file in ORDERED_SQL_FILES:\n",
    "    file_path = os.path.join(SQL_DIR, file)\n",
    "    if not os.path.exists(file_path):\n",
    "        raise FileNotFoundError(f\"Missing file: {file_path}\")\n",
    "    run_sql_file(file)\n",
    "\n",
    "print(\"\\n✅ All SQL scripts completed successfully.\")\n"
   ]
  }
 ],
 "metadata": {
  "kernelspec": {
   "display_name": "july2025",
   "language": "python",
   "name": "python3"
  },
  "language_info": {
   "codemirror_mode": {
    "name": "ipython",
    "version": 3
   },
   "file_extension": ".py",
   "mimetype": "text/x-python",
   "name": "python",
   "nbconvert_exporter": "python",
   "pygments_lexer": "ipython3",
   "version": "3.13.5"
  }
 },
 "nbformat": 4,
 "nbformat_minor": 5
}
