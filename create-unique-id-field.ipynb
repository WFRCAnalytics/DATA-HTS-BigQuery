{
 "cells": [
  {
   "cell_type": "code",
   "execution_count": 2,
   "id": "a4064c59",
   "metadata": {},
   "outputs": [],
   "source": [
    "import pandas as pd\n",
    "import geopandas as gpd\n",
    "import sys\n",
    "import matplotlib.pyplot as plt\n",
    "import seaborn as sns\n",
    "import numpy as np\n",
    "from shapely import wkt"
   ]
  },
  {
   "cell_type": "code",
   "execution_count": 4,
   "id": "fc1d192f",
   "metadata": {},
   "outputs": [
    {
     "name": "stdout",
     "output_type": "stream",
     "text": [
      "bhereth\n",
      "C:\\Users\\bhereth\\confidential-2023-utah-hts-db5335615978.json\n"
     ]
    }
   ],
   "source": [
    "# import global TDM functions\n",
    "sys.path.insert(0, '../../Resources/2-Python/global-functions')\n",
    "import BigQuery\n",
    "client = BigQuery.getBigQueryClient_Confidential2023UtahHTS()"
   ]
  },
  {
   "cell_type": "code",
   "execution_count": 5,
   "id": "7b7580d9",
   "metadata": {},
   "outputs": [
    {
     "name": "stdout",
     "output_type": "stream",
     "text": [
      "✅ Table created successfully with unique UUIDs!\n"
     ]
    }
   ],
   "source": [
    "# Define your SQL query\n",
    "query = \"\"\"\n",
    "CREATE OR REPLACE TABLE `wfrc-modeling-data.ext_rsg_hts_2023.trip_linked_with_uuid` AS\n",
    "SELECT\n",
    "  GENERATE_UUID() AS unique_id,\n",
    "  *\n",
    "FROM\n",
    "  `wfrc-modeling-data.ext_rsg_hts_2023.trip_linked`\n",
    "\"\"\"\n",
    "\n",
    "# Run the query\n",
    "job = client.query(query)\n",
    "\n",
    "# Wait for it to complete\n",
    "job.result()\n",
    "\n",
    "print(\"✅ Table created successfully with unique UUIDs!\")\n"
   ]
  }
 ],
 "metadata": {
  "kernelspec": {
   "display_name": "july2025",
   "language": "python",
   "name": "python3"
  },
  "language_info": {
   "codemirror_mode": {
    "name": "ipython",
    "version": 3
   },
   "file_extension": ".py",
   "mimetype": "text/x-python",
   "name": "python",
   "nbconvert_exporter": "python",
   "pygments_lexer": "ipython3",
   "version": "3.13.5"
  }
 },
 "nbformat": 4,
 "nbformat_minor": 5
}
